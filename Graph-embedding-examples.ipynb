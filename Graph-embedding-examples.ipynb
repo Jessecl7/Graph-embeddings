{
 "cells": [
  {
   "cell_type": "code",
   "execution_count": 22,
   "metadata": {},
   "outputs": [],
   "source": [
    "load(\"knembed.sage\", \"pathgraph.sage\", \"chordalgenus.sage\")"
   ]
  },
  {
   "cell_type": "code",
   "execution_count": 12,
   "metadata": {},
   "outputs": [
    {
     "data": {
      "text/plain": [
       "1861/500"
      ]
     },
     "execution_count": 12,
     "metadata": {},
     "output_type": "execute_result"
    }
   ],
   "source": [
    "avgfaces = 0\n",
    "for i in range(1000):\n",
    "    avgfaces += knembed(10)/1000\n",
    "avgfaces\n",
    "#Estimates the average number of faces in a complete graph with 10 vertices"
   ]
  },
  {
   "cell_type": "code",
   "execution_count": 17,
   "metadata": {},
   "outputs": [
    {
     "data": {
      "text/html": [
       "<html><script type=\"math/tex; mode=display\">\\newcommand{\\Bold}[1]{\\mathbf{#1}}324 t^{7} + 5940 t^{5} + 17496 t^{3} + 5040 t</script></html>"
      ],
      "text/plain": [
       "324*t^7 + 5940*t^5 + 17496*t^3 + 5040*t"
      ]
     },
     "metadata": {},
     "output_type": "display_data"
    },
    {
     "name": "stdout",
     "output_type": "stream",
     "text": [
      "40/7*t^6 + 30*t^5 + 78*t^4 + 676/7*t^3 + 78*t^2 + 30*t + 40/7\n"
     ]
    },
    {
     "data": {
      "text/html": [
       "<html><script type=\"math/tex; mode=display\">\\newcommand{\\Bold}[1]{\\mathbf{#1}}\\left[\\left(-1.82274217413199 - 1.64561014201458i, 1\\right), \\left(-1.82274217413199 + 1.64561014201458i, 1\\right), \\left(-0.500000000000000 - 0.866025403784439i, 1\\right), \\left(-0.500000000000000 + 0.866025403784439i, 1\\right), \\left(-0.302257825868012 - 0.272884750685349i, 1\\right), \\left(-0.302257825868012 + 0.272884750685349i, 1\\right)\\right]</script></html>"
      ],
      "text/plain": [
       "[(-1.82274217413199 - 1.64561014201458*I, 1),\n",
       " (-1.82274217413199 + 1.64561014201458*I, 1),\n",
       " (-0.500000000000000 - 0.866025403784439*I, 1),\n",
       " (-0.500000000000000 + 0.866025403784439*I, 1),\n",
       " (-0.302257825868012 - 0.272884750685349*I, 1),\n",
       " (-0.302257825868012 + 0.272884750685349*I, 1)]"
      ]
     },
     "metadata": {},
     "output_type": "display_data"
    }
   ],
   "source": [
    "pathpoly(3,3)\n",
    "#Outputs the roots of the genus polynomial for a path graph with 3 vertices, and edge multiplicity 3."
   ]
  },
  {
   "cell_type": "code",
   "execution_count": 23,
   "metadata": {},
   "outputs": [
    {
     "name": "stdout",
     "output_type": "stream",
     "text": [
      "[0, 320, 0, 632, 0, 72, 0, 0, 0, 0]\n",
      "161/64\n",
      "[0, 23616, 27264, 11872, 2480, 292, 12, 0, 0, 0]\n",
      "31303/16384\n"
     ]
    },
    {
     "data": {
      "text/plain": [
       "31303/16384"
      ]
     },
     "execution_count": 23,
     "metadata": {},
     "output_type": "execute_result"
    }
   ],
   "source": [
    "orchordal(5)\n",
    "nonorchordal(5)\n",
    "#Compares the average orientable and non-orientable faces of the same graph formed by a cycle with opposite vertices joined by chords."
   ]
  },
  {
   "cell_type": "code",
   "execution_count": 24,
   "metadata": {},
   "outputs": [
    {
     "name": "stdout",
     "output_type": "stream",
     "text": [
      "[0, 128, 0, 576, 0, 288, 0, 32, 0, 0]\n",
      "55/16\n",
      "[0, 13312, 23552, 18176, 7936, 2176, 352, 32, 0, 0]\n",
      "4997/2048\n"
     ]
    },
    {
     "data": {
      "text/plain": [
       "4997/2048"
      ]
     },
     "execution_count": 24,
     "metadata": {},
     "output_type": "execute_result"
    }
   ],
   "source": [
    "orladder(5)\n",
    "nonorladder(5)\n",
    "#Compares the average orientable and non-orientable faces of the same ladder graph."
   ]
  },
  {
   "cell_type": "code",
   "execution_count": null,
   "metadata": {},
   "outputs": [],
   "source": []
  }
 ],
 "metadata": {
  "kernelspec": {
   "display_name": "SageMath 8.9",
   "language": "sage",
   "name": "sagemath"
  },
  "language_info": {
   "codemirror_mode": {
    "name": "ipython",
    "version": 2
   },
   "file_extension": ".py",
   "mimetype": "text/x-python",
   "name": "python",
   "nbconvert_exporter": "python",
   "pygments_lexer": "ipython2",
   "version": "2.7.15"
  }
 },
 "nbformat": 4,
 "nbformat_minor": 2
}
